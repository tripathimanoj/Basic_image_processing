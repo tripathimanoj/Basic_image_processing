{
 "cells": [
  {
   "cell_type": "markdown",
   "id": "677d3828",
   "metadata": {},
   "source": [
    "\n",
    "Task 4.1\n",
    "Create image by yourself Using Python Code \n",
    "\n",
    "Task 4.2\n",
    "Take 2 image crop some part of both image and swap it. \n",
    "\n",
    "Task 4.3\n",
    "Take 2 image and combine it to form single image. For example collage\n"
   ]
  },
  {
   "cell_type": "code",
   "execution_count": 1,
   "id": "5abfa832",
   "metadata": {},
   "outputs": [],
   "source": [
    "import cv2\n",
    "import numpy as np"
   ]
  },
  {
   "cell_type": "code",
   "execution_count": 51,
   "id": "4c508dec",
   "metadata": {},
   "outputs": [],
   "source": [
    "\n",
    "# 4.1 Create image by yourself Using Python Code\n",
    "\n",
    "a=(728,908,3) #giving array size\n",
    "pic=np.zeros(a) # converting into matrix\n",
    "\n",
    "pic[:]=[0,255,0] # giving another corlor bgr / green color\n",
    "\n",
    "font=cv2.FONT_ITALIC\n",
    "cv2.putText(pic, ' Hey Manoj Welcome To Image_Processing ', (20, 40),font, 1, (255 ,0, 0), 2, cv2.LINE_AA)\n",
    "\n",
    "pic=cv2.rectangle(pic,(100,100), (300,300),[255,0,90],5) # to fill it with color ex: color=(color code), thickness= -1\n",
    "pic=cv2.rectangle(pic,(300,300), (500,500),[255,0,90],5)\n",
    "pic=cv2.rectangle(pic,(500,500), (700,700),[255,0,90],5)\n",
    "cv2.imwrite('create_image.jpg',pic)\n",
    "cv2.imshow(\"kfjdk\",pic)\n",
    "cv2.waitKey()\n",
    "cv2.destroyAllWindows()"
   ]
  },
  {
   "cell_type": "code",
   "execution_count": null,
   "id": "455cd88d",
   "metadata": {},
   "outputs": [],
   "source": [
    "a= cv2.imread('i1.jpg')\n",
    "b=cv2.imread('i2.jpeg')\n",
    "print(a.shape)\n",
    "print(b.shape)"
   ]
  },
  {
   "cell_type": "code",
   "execution_count": null,
   "id": "de2d2705",
   "metadata": {},
   "outputs": [],
   "source": [
    "# 4.2 Take 2 image crop some part of both image and swap it.\n",
    "\n",
    "import cv2\n",
    "\n",
    "#To read images ...\n",
    "\n",
    "pic1=cv2.imread('i1.jpg')\n",
    "pic2=cv2.imread('i2.jpeg')\n",
    "\n",
    "    \n",
    "#to crop images...\n",
    "\n",
    "p1=pic1[200:500,1:300] # pass the area you want to crop.\n",
    "cv2.imwrite('p1.jpg',p1) \n",
    "p2=pic2[200:500,1:300]\n",
    "cv2.imwrite('p2.jpg',p2) # save the new image.\n",
    "\n",
    "\n",
    "#to swap croped images of both...\n",
    "\n",
    "x=cv2.imread('p1.jpg')\n",
    "y=cv2.imread('p2.jpg')\n",
    "\n",
    "pic1[200:500,1:300]=y  # pass the co-ordinate where you want to swap it.\n",
    "pic2[200:500,1:300]=x\n",
    "\n",
    "cv2.imshow(\"croped and swaped image of pic1\",pic1)\n",
    "cv2.imshow(\"croped and swaped image of pic2\",pic2)\n",
    "cv2.waitKey()\n",
    "cv2.destroyAllWindows()\n"
   ]
  },
  {
   "cell_type": "code",
   "execution_count": null,
   "id": "07a4c135",
   "metadata": {},
   "outputs": [],
   "source": []
  },
  {
   "cell_type": "code",
   "execution_count": 52,
   "id": "54604ea0",
   "metadata": {},
   "outputs": [],
   "source": [
    "# 4.3 Take 2 image and combine it to form single image. For example collage\n",
    "\n",
    "import cv2\n",
    "import numpy as np\n",
    "\n",
    "img1=cv2.imread('p1.jpg')\n",
    "img2=cv2.imread('p2.jpg.')\n",
    "\n",
    "collage1=cv2.hconcat([img1, img2]) # to combine horizontally .\n",
    "collage2=cv2.vconcat([img1, img2]) # to combine vertically.\n",
    "\n",
    "cv2.imshow('fianl_collage1',collage1)\n",
    "cv2.imshow('fianl_collage2',collage2)\n",
    "\n",
    "cv2.waitKey()\n",
    "cv2.destroyAllWindows()"
   ]
  },
  {
   "cell_type": "markdown",
   "id": "d0526c40",
   "metadata": {},
   "source": [
    "********************************************---------------------------------------------------------------------------------------------------------******************************************"
   ]
  }
 ],
 "metadata": {
  "kernelspec": {
   "display_name": "Python 3",
   "language": "python",
   "name": "python3"
  },
  "language_info": {
   "codemirror_mode": {
    "name": "ipython",
    "version": 3
   },
   "file_extension": ".py",
   "mimetype": "text/x-python",
   "name": "python",
   "nbconvert_exporter": "python",
   "pygments_lexer": "ipython3",
   "version": "3.8.8"
  }
 },
 "nbformat": 4,
 "nbformat_minor": 5
}
